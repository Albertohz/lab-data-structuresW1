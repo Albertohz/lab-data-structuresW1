{
  "nbformat": 4,
  "nbformat_minor": 0,
  "metadata": {
    "colab": {
      "provenance": []
    },
    "kernelspec": {
      "name": "python3",
      "display_name": "Python 3"
    },
    "language_info": {
      "name": "python"
    }
  },
  "cells": [
    {
      "cell_type": "markdown",
      "source": [
        "Exercise: Managing Customer Orders\n",
        "As part of a business venture, you are starting an online store that sells various products. To ensure smooth operations, you need to develop a program that manages customer orders and inventory.\n",
        "\n",
        "Follow the steps below to complete the exercise:\n",
        "\n",
        "1. Define a list called products that contains the following items: \"t-shirt\", \"mug\", \"hat\", \"book\", \"keychain\".\n",
        "\n",
        "2. Create an empty dictionary called inventory.\n",
        "\n",
        "3. Ask the user to input the quantity of each product available in the inventory. Use the product names from the products list as keys in the inventory dictionary and assign the respective quantities as values.\n",
        "\n",
        "4. Create an empty set called customer_orders.\n",
        "\n",
        "5. Ask the user to input the name of three products that a customer wants to order (from those in the products list, meaning three products out of \"t-shirt\", \"mug\", \"hat\", \"book\" or \"keychain\". Add each product name to the customer_orders set.\n",
        "\n",
        "6. Print the products in the customer_orders set.\n",
        "\n",
        "7. Calculate the following order statistics:\n",
        "\n",
        "- Total Products Ordered: The total number of products in the customer_orders set.\n",
        "- Percentage of Products Ordered: The percentage of products ordered compared to the total available products.\n",
        "Store these statistics in a tuple called order_status.\n",
        "\n",
        "8. Print the order statistics using the following format:\n",
        "\n",
        "Order Statistics:\n",
        "Total Products Ordered: <total_products_ordered>\n",
        "Percentage of Products Ordered: <percentage_ordered>%\n",
        "\n",
        "9. Update the inventory by subtracting 1 from the quantity of each product. Modify the inventory dictionary accordingly.\n",
        "\n",
        "10. Print the updated inventory, displaying the quantity of each product on separate lines.\n",
        "\n",
        "Solve the exercise by implementing the steps using the Python concepts of lists, dictionaries, sets, and basic input/output operations."
      ],
      "metadata": {
        "id": "rhvGqWO3fsTa"
      }
    },
    {
      "cell_type": "code",
      "source": [
        "product = [\"t-shirt\", \"mug\", \"hat\", \"book\", \"keychain\"]"
      ],
      "metadata": {
        "id": "yDHl1sbEf373"
      },
      "execution_count": 76,
      "outputs": []
    },
    {
      "cell_type": "code",
      "source": [
        "type(product)"
      ],
      "metadata": {
        "colab": {
          "base_uri": "https://localhost:8080/"
        },
        "id": "E-mBI1w0H2Pt",
        "outputId": "1a0ffc31-469e-41ee-bb37-8b3407d12206"
      },
      "execution_count": 77,
      "outputs": [
        {
          "output_type": "execute_result",
          "data": {
            "text/plain": [
              "list"
            ]
          },
          "metadata": {},
          "execution_count": 77
        }
      ]
    },
    {
      "cell_type": "code",
      "source": [
        "inventory = {}"
      ],
      "metadata": {
        "id": "JGJUKx9DicWz"
      },
      "execution_count": 78,
      "outputs": []
    },
    {
      "cell_type": "code",
      "source": [
        "for product in products:\n",
        "    quantity = int(input(f\"Please enter how many {product} are available: \"))\n",
        "    inventory[product] = quantity"
      ],
      "metadata": {
        "colab": {
          "base_uri": "https://localhost:8080/"
        },
        "id": "dtC5mVrnjXJk",
        "outputId": "60f1e7ce-fd71-4826-f14d-7e4a4c415acb"
      },
      "execution_count": 80,
      "outputs": [
        {
          "name": "stdout",
          "output_type": "stream",
          "text": [
            "Please enter how many t-shirt are available: 2\n",
            "Please enter how many mug are available: 3\n",
            "Please enter how many hat are available: 45\n",
            "Please enter how many book are available: 23\n",
            "Please enter how many keychain are available: 12\n"
          ]
        }
      ]
    },
    {
      "cell_type": "markdown",
      "source": [
        "**Note**: I used a loop to iterate through each product in the \"product_list\" list, and for each product, I asked the user to input the quantity available. I stored this quantity in the \"inventory\" dictionary with the product name as the key"
      ],
      "metadata": {
        "id": "1sNv2k-nftg8"
      }
    },
    {
      "cell_type": "code",
      "source": [
        "customer_orders = set()"
      ],
      "metadata": {
        "id": "NwPlMLHDHmzx"
      },
      "execution_count": 81,
      "outputs": []
    },
    {
      "cell_type": "code",
      "source": [
        "type(customer_orders)"
      ],
      "metadata": {
        "colab": {
          "base_uri": "https://localhost:8080/"
        },
        "id": "yxUd0detHtel",
        "outputId": "35d47eb2-46f5-4f86-8615-9332659c5872"
      },
      "execution_count": 82,
      "outputs": [
        {
          "output_type": "execute_result",
          "data": {
            "text/plain": [
              "set"
            ]
          },
          "metadata": {},
          "execution_count": 82
        }
      ]
    },
    {
      "cell_type": "code",
      "source": [
        "for i in range(3):\n",
        "  products = input(\"Please enter the name of a product you would like to order: \")\n",
        "# if I use this loop the system does not differentiate between products who may not be in the list or even between integers / strings"
      ],
      "metadata": {
        "colab": {
          "base_uri": "https://localhost:8080/"
        },
        "id": "oIDsq60RH1F1",
        "outputId": "5bff073b-263a-40d0-d97e-66e055c971c9"
      },
      "execution_count": 83,
      "outputs": [
        {
          "name": "stdout",
          "output_type": "stream",
          "text": [
            "Please enter the name of a product you would like to order: 12\n",
            "Please enter the name of a product you would like to order: 12\n",
            "Please enter the name of a product you would like to order: 12\n"
          ]
        }
      ]
    },
    {
      "cell_type": "code",
      "source": [
        "products = [\"t-shirt\", \"mug\", \"hat\", \"book\", \"keychain\"]"
      ],
      "metadata": {
        "id": "M80yLeO4JtoN"
      },
      "execution_count": 84,
      "outputs": []
    },
    {
      "cell_type": "code",
      "source": [
        "for i in range(3):\n",
        "    product_name = input(\"Enter the name of a product to order: \")\n",
        "\n",
        "if product_name in products:\n",
        "  customer_orders.add(product_name)\n",
        "else:\n",
        "  print(\"Invalid product name. Please enter a valid product.\")"
      ],
      "metadata": {
        "colab": {
          "base_uri": "https://localhost:8080/"
        },
        "id": "78d9PEQQIr8V",
        "outputId": "66546f8a-21b3-4151-b0da-19d03a045641"
      },
      "execution_count": 92,
      "outputs": [
        {
          "name": "stdout",
          "output_type": "stream",
          "text": [
            "Enter the name of a product to order: hat\n",
            "Enter the name of a product to order: mug\n",
            "Enter the name of a product to order: book\n"
          ]
        }
      ]
    },
    {
      "cell_type": "code",
      "source": [
        "print(\"Customer Orders:\", customer_orders) # there is something wrong with my code as every time I run the print I get a different option. I cannot figure out why!!"
      ],
      "metadata": {
        "colab": {
          "base_uri": "https://localhost:8080/"
        },
        "id": "CjFhNIwWI0Pt",
        "outputId": "fbd9623f-5a67-456d-b898-cf338b1734da"
      },
      "execution_count": 93,
      "outputs": [
        {
          "output_type": "stream",
          "name": "stdout",
          "text": [
            "Customer Orders: {'keychain', 'hat', 'book'}\n"
          ]
        }
      ]
    },
    {
      "cell_type": "markdown",
      "source": [
        "Calculate the following order statistics:\n",
        "\n",
        "Total Products Ordered: The total number of products in the customer_orders set.\n",
        "Percentage of Products Ordered: The percentage of products ordered compared to the total available products. Store these statistics in a tuple called order_status.\n",
        "Print the order statistics using the following format:\n",
        "Order Statistics: Total Products Ordered: Percentage of Products Ordered: %"
      ],
      "metadata": {
        "id": "rx068c3UN6bT"
      }
    },
    {
      "cell_type": "code",
      "source": [
        "total_products_ordered = len(customer_orders)"
      ],
      "metadata": {
        "id": "kJFDUq_dMmN7"
      },
      "execution_count": 94,
      "outputs": []
    },
    {
      "cell_type": "code",
      "source": [
        "print(\"Total number of products ordered is \", total_products_ordered)"
      ],
      "metadata": {
        "colab": {
          "base_uri": "https://localhost:8080/"
        },
        "id": "CG-ZuMg1OS-Q",
        "outputId": "0c2d4cca-af17-4116-9b57-3615378fc966"
      },
      "execution_count": 95,
      "outputs": [
        {
          "output_type": "stream",
          "name": "stdout",
          "text": [
            "Total number of products ordered is  3\n"
          ]
        }
      ]
    },
    {
      "cell_type": "code",
      "source": [
        "total_available_products = len(products)"
      ],
      "metadata": {
        "id": "vvX-uB7bOdZY"
      },
      "execution_count": 96,
      "outputs": []
    },
    {
      "cell_type": "code",
      "source": [
        "percentage_ordered = (total_products_ordered / total_available_products) * 100"
      ],
      "metadata": {
        "id": "xHuSRc1JOytS"
      },
      "execution_count": 97,
      "outputs": []
    },
    {
      "cell_type": "code",
      "source": [
        "order_status = (total_products_ordered, percentage_ordered)"
      ],
      "metadata": {
        "id": "GP0cWATLPDSF"
      },
      "execution_count": 98,
      "outputs": []
    },
    {
      "cell_type": "code",
      "source": [
        "print(\"Order Statistics:\")\n",
        "print(f\"Total Products Ordered: {total_products_ordered}\")\n",
        "print(f\"Percentage of Products Ordered: {percentage_ordered:.2f}%\") # f - denotes is a f-string, allowing for string formatting using curly braces # .2f specifies the formatting (floating number with 2 decimals) # % the symbol for percentage"
      ],
      "metadata": {
        "colab": {
          "base_uri": "https://localhost:8080/"
        },
        "id": "epO-l6HGPIAg",
        "outputId": "97963b24-680d-4086-dd5d-149bcd277e2a"
      },
      "execution_count": 99,
      "outputs": [
        {
          "output_type": "stream",
          "name": "stdout",
          "text": [
            "Order Statistics:\n",
            "Total Products Ordered: 3\n",
            "Percentage of Products Ordered: 60.00%\n"
          ]
        }
      ]
    },
    {
      "cell_type": "markdown",
      "source": [
        "Update the inventory by subtracting 1 from the quantity of each product. Modify the inventory dictionary accordingly.\n",
        "\n",
        "Print the updated inventory, displaying the quantity of each product on separate lines.\n"
      ],
      "metadata": {
        "id": "dOZDyaK1QGDV"
      }
    },
    {
      "cell_type": "code",
      "source": [
        "for product in products:\n",
        "    inventory[product] -= 1"
      ],
      "metadata": {
        "id": "d9SViHvEP_QB"
      },
      "execution_count": 100,
      "outputs": []
    },
    {
      "cell_type": "code",
      "source": [
        "print(\"Updated Inventory: \")\n",
        "for product, quantity in inventory.items():\n",
        "    print(f\"{product}: {quantity}\")"
      ],
      "metadata": {
        "colab": {
          "base_uri": "https://localhost:8080/"
        },
        "id": "urktfLLIRLe2",
        "outputId": "236cda90-5e2f-457b-ca57-06924a53efac"
      },
      "execution_count": 103,
      "outputs": [
        {
          "output_type": "stream",
          "name": "stdout",
          "text": [
            "Updated Inventory: \n",
            "t-shirt: 1\n",
            "mug: 2\n",
            "hat: 44\n",
            "book: 22\n",
            "keychain: 11\n"
          ]
        }
      ]
    },
    {
      "cell_type": "markdown",
      "source": [
        "**Note:** This loop iterates through each key-value pair in the inventory dictionary. For each product, it prints the product name followed by its quantity."
      ],
      "metadata": {
        "id": "eAHw2TT_RW7v"
      }
    }
  ]
}